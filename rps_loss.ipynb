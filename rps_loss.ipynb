{
 "cells": [
  {
   "cell_type": "code",
   "execution_count": 3,
   "id": "35aead6e",
   "metadata": {},
   "outputs": [],
   "source": [
    "import numpy as np\n",
    "import torch"
   ]
  },
  {
   "cell_type": "code",
   "execution_count": 4,
   "id": "5012418c",
   "metadata": {},
   "outputs": [],
   "source": [
    "def one_hot_encoding(array, num_classes=0):\n",
    "    if num_classes == 0:\n",
    "        num_classes = len(np.unique(array))\n",
    "    one_hot_array = np.eye(num_classes)[array.reshape(-1)]\n",
    "    return one_hot_array"
   ]
  },
  {
   "cell_type": "code",
   "execution_count": 7,
   "id": "e121cfd1",
   "metadata": {},
   "outputs": [],
   "source": [
    "def rps(y,p, num_classes=None):\n",
    "    if y.ndim == 1:\n",
    "        assert num_classes is not None\n",
    "        y = one_hot_encoding(y, num_classes=num_classes)\n",
    "    else:\n",
    "        # already one-hot-encoded\n",
    "        num_classes = y.shape[1]\n",
    "    return ((np.cumsum(y, axis=-1) - np.cumsum(p, axis=-1))**2).sum(axis=-1)/(num_classes-1)"
   ]
  },
  {
   "cell_type": "code",
   "execution_count": 10,
   "id": "a1ff5a0c",
   "metadata": {},
   "outputs": [
    {
     "data": {
      "text/plain": [
       "array([0.225, 0.225])"
      ]
     },
     "execution_count": 10,
     "metadata": {},
     "output_type": "execute_result"
    }
   ],
   "source": [
    "y = np.array([[0,0,1],[0,0,1]])\n",
    "p = np.array([[0.3, 0.3, 0.4], [0.3, 0.3, 0.4]])          \n",
    "\n",
    "rps(y,p)"
   ]
  },
  {
   "cell_type": "code",
   "execution_count": 11,
   "id": "0b19896e",
   "metadata": {},
   "outputs": [
    {
     "data": {
      "text/plain": [
       "array([0.225, 0.225, 0.225])"
      ]
     },
     "execution_count": 11,
     "metadata": {},
     "output_type": "execute_result"
    }
   ],
   "source": [
    "y = np.array([[0,0,1],[0,0,1],[0,0,1]])\n",
    "p = np.array([[0.3, 0.3, 0.4], [0.3, 0.3, 0.4], [0.3, 0.3, 0.4]])          \n",
    "\n",
    "rps(y,p)"
   ]
  },
  {
   "cell_type": "code",
   "execution_count": null,
   "id": "4eaba4a0",
   "metadata": {},
   "outputs": [],
   "source": [
    "torch.nn.functional.one_hot(target, n_classes=3)"
   ]
  },
  {
   "cell_type": "code",
   "execution_count": 14,
   "id": "bc46a911",
   "metadata": {},
   "outputs": [],
   "source": [
    "def rps_torch(logits, target, reduction = 'none'):\n",
    "    # assumes tensors of shape:\n",
    "    # logits = BS x C\n",
    "    # target = BS, will be one-hot encoded internally using n_classes = logits.shape[1]\n",
    "    bs, num_classes = logits.shape[0], logits.shape[1]\n",
    "    target= torch.nn.functional.one_hot(target, num_classes=num_classes)\n",
    "    # probs = logits.softmaxs(1)\n",
    "    probs = logits\n",
    "    rps_loss = ((torch.cumsum(target, dim=-1) - torch.cumsum(probs, dim=-1))**2).sum(dim=-1)/(num_classes-1)\n",
    "    if reduction == 'none':\n",
    "        return rps_loss \n",
    "    else:\n",
    "        return rps_loss.mean()"
   ]
  },
  {
   "cell_type": "code",
   "execution_count": 15,
   "id": "37eff2e9",
   "metadata": {},
   "outputs": [
    {
     "data": {
      "text/plain": [
       "array([0.225, 0.145, 0.05 ])"
      ]
     },
     "execution_count": 15,
     "metadata": {},
     "output_type": "execute_result"
    }
   ],
   "source": [
    "y = np.array([[0,0,1],[0,0,1],[0,0,1]])\n",
    "p = np.array([[0.3, 0.3, 0.4], [0.2, 0.3, 0.5], [0.1, 0.2, 0.7]])          \n",
    "\n",
    "rps(y,p)"
   ]
  },
  {
   "cell_type": "code",
   "execution_count": 16,
   "id": "52346fcd",
   "metadata": {},
   "outputs": [],
   "source": [
    "p_torch = torch.from_numpy(p)\n",
    "target_torch = torch.from_numpy(np.array([2,2,2]))"
   ]
  },
  {
   "cell_type": "code",
   "execution_count": 17,
   "id": "39dea007",
   "metadata": {},
   "outputs": [
    {
     "data": {
      "text/plain": [
       "tensor([0.2250, 0.1450, 0.0500], dtype=torch.float64)"
      ]
     },
     "execution_count": 17,
     "metadata": {},
     "output_type": "execute_result"
    }
   ],
   "source": [
    "rps_torch(p_torch, target_torch)"
   ]
  },
  {
   "cell_type": "code",
   "execution_count": null,
   "id": "f81906f4",
   "metadata": {},
   "outputs": [],
   "source": []
  }
 ],
 "metadata": {
  "kernelspec": {
   "display_name": "pr_ord",
   "language": "python",
   "name": "pr_ord"
  },
  "language_info": {
   "codemirror_mode": {
    "name": "ipython",
    "version": 3
   },
   "file_extension": ".py",
   "mimetype": "text/x-python",
   "name": "python",
   "nbconvert_exporter": "python",
   "pygments_lexer": "ipython3",
   "version": "3.9.16"
  }
 },
 "nbformat": 4,
 "nbformat_minor": 5
}
